{
 "cells": [
  {
   "cell_type": "markdown",
   "metadata": {},
   "source": [
    "# Installing full profile Tanzu Application Platform"
   ]
  },
  {
   "cell_type": "code",
   "execution_count": null,
   "metadata": {},
   "outputs": [],
   "source": [
    "cd $HOME/projects/tap-bounty/install/scripts"
   ]
  },
  {
   "cell_type": "code",
   "execution_count": null,
   "metadata": {},
   "outputs": [],
   "source": [
    "chmod 755 setUp.sh"
   ]
  },
  {
   "cell_type": "code",
   "execution_count": null,
   "metadata": {},
   "outputs": [],
   "source": [
    "./setUp.sh "
   ]
  },
  {
   "cell_type": "code",
   "execution_count": null,
   "metadata": {},
   "outputs": [],
   "source": [
    "cd $HOME/projects/tap-bounty"
   ]
  },
  {
   "cell_type": "markdown",
   "source": [
    "Update tap-values.yaml to reflect your own environment"
   ],
   "metadata": {
    "collapsed": false,
    "pycharm": {
     "name": "#%% md\n"
    }
   }
  },
  {
   "cell_type": "code",
   "execution_count": null,
   "metadata": {},
   "outputs": [],
   "source": [
    "tanzu package install tap -p tap.tanzu.vmware.com -v 1.0.0 --values-file tap-values.yml -n tap-install"
   ]
  },
  {
   "cell_type": "code",
   "execution_count": null,
   "metadata": {},
   "outputs": [],
   "source": [
    "tanzu package installed get tap -n tap-install"
   ]
  },
  {
   "cell_type": "code",
   "execution_count": null,
   "metadata": {},
   "outputs": [],
   "source": [
    "tanzu package installed list -A"
   ]
  },
  {
   "cell_type": "markdown",
   "source": [
    "## Configure Ingress and Routing"
   ],
   "metadata": {
    "collapsed": false,
    "pycharm": {
     "name": "#%% md\n"
    }
   }
  },
  {
   "cell_type": "code",
   "execution_count": null,
   "metadata": {},
   "outputs": [],
   "source": [
    "kubectl get svc envoy -n tanzu-system-ingress"
   ]
  },
  {
   "cell_type": "code",
   "execution_count": null,
   "metadata": {},
   "outputs": [],
   "source": [
    "gcloud beta dns --project=fluted-lambda-274409 record-sets transaction start --zone=\"tanzu4u\"\n",
    "gcloud beta dns --project=fluted-lambda-274409 record-sets transaction add 35.226.28.109 --name=\"tap-gui.tap.tanzu4u.net.\" --ttl=\"300\" --type=\"A\" --zone=\"tanzu4u\"\n",
    "gcloud beta dns --project=fluted-lambda-274409 record-sets transaction execute --zone=\"tanzu4u\""
   ]
  },
  {
   "cell_type": "code",
   "execution_count": null,
   "metadata": {},
   "outputs": [],
   "source": [
    "cd tap-ingress"
   ]
  },
  {
   "cell_type": "code",
   "execution_count": null,
   "metadata": {},
   "outputs": [],
   "source": [
    "./configure-ingress.sh values-ingress.yaml"
   ]
  },
  {
   "cell_type": "code",
   "execution_count": null,
   "metadata": {},
   "outputs": [],
   "source": [
    "nslookup tap-gui.tap.tanzu4u.net"
   ]
  },
  {
   "cell_type": "code",
   "execution_count": null,
   "metadata": {},
   "outputs": [],
   "source": [
    "open -a \"Google Chrome\" https://tap-gui.tap.tanzu4u.net"
   ]
  },
  {
   "cell_type": "markdown",
   "source": [
    "## Deploy a sample Java application"
   ],
   "metadata": {
    "collapsed": false,
    "pycharm": {
     "name": "#%% md\n"
    }
   }
  },
  {
   "cell_type": "code",
   "execution_count": null,
   "metadata": {},
   "outputs": [],
   "source": [
    "tanzu apps workload create tanzu-java-web-app \\\n",
    "--git-repo https://github.com/sreeramsunkara/tanzu-java-web-app \\\n",
    "--git-branch main \\\n",
    "--type web \\\n",
    "--label app.kubernetes.io/part-of=tanzu-java-web-app \\\n",
    "--namespace dev \\\n",
    "--yes"
   ]
  },
  {
   "cell_type": "code",
   "execution_count": null,
   "metadata": {},
   "outputs": [],
   "source": [
    "tanzu apps workload get tanzu-java-web-app -n dev"
   ]
  },
  {
   "cell_type": "code",
   "execution_count": null,
   "metadata": {},
   "outputs": [],
   "source": [
    "gcloud beta dns --project=fluted-lambda-274409 record-sets transaction start --zone=\"tanzu4u\"\n",
    "gcloud beta dns --project=fluted-lambda-274409 record-sets transaction add 35.226.28.109 --name=\"*.apps.tap.tanzu4u.net.\" --ttl=\"300\" --type=\"A\" --zone=\"tanzu4u\"\n",
    "gcloud beta dns --project=fluted-lambda-274409 record-sets transaction execute --zone=\"tanzu4u\""
   ]
  },
  {
   "cell_type": "markdown",
   "metadata": {},
   "source": [
    "Postgres Operator installation"
   ]
  },
  {
   "cell_type": "code",
   "execution_count": null,
   "metadata": {},
   "outputs": [],
   "source": [
    "cd ~/projects/tap-bounty/postgres"
   ]
  },
  {
   "cell_type": "code",
   "execution_count": null,
   "metadata": {},
   "outputs": [],
   "source": [
    "chmod 755 prereq.sh"
   ]
  },
  {
   "cell_type": "markdown",
   "metadata": {},
   "source": [
    "Edit prereq.sh and update username and password for Tanzu Network Registry."
   ]
  },
  {
   "cell_type": "code",
   "execution_count": null,
   "metadata": {},
   "outputs": [],
   "source": [
    "./prereq.sh"
   ]
  },
  {
   "cell_type": "code",
   "execution_count": null,
   "metadata": {},
   "outputs": [],
   "source": [
    "cat postgres-operator/values.yaml"
   ]
  },
  {
   "cell_type": "markdown",
   "metadata": {},
   "source": [
    "kubectl create ns postgres-operator"
   ]
  },
  {
   "cell_type": "markdown",
   "metadata": {},
   "source": [
    "kubectl create secret docker-registry regsecret \\\n",
    "    --docker-server=https://registry.pivotal.io/ \\\n",
    "    --docker-username='TANZU_NETWORK_USERNAME' \\\n",
    "    --docker-password='TANZU_NETWORK_PASSWORD' \\\n",
    "    --namespace=postgres-operator"
   ]
  },
  {
   "cell_type": "markdown",
   "metadata": {},
   "source": [
    "helm install my-postgres-operator postgres-operator/ \\\n",
    "  --namespace=postgres-operator \\\n",
    "  --wait    "
   ]
  },
  {
   "cell_type": "markdown",
   "metadata": {},
   "source": [
    "kubectl get serviceaccount -n postgres-operator"
   ]
  },
  {
   "cell_type": "markdown",
   "metadata": {},
   "source": [
    "kubectl get all --selector app=postgres-operator -n postgres-operator"
   ]
  },
  {
   "cell_type": "markdown",
   "metadata": {},
   "source": [
    "kubectl logs -l app=postgres-operator -n postgres-operator"
   ]
  },
  {
   "cell_type": "markdown",
   "metadata": {},
   "source": [
    "kubectl api-resources --api-group=sql.tanzu.vmware.com -n postgres-operator"
   ]
  },
  {
   "cell_type": "code",
   "execution_count": null,
   "metadata": {},
   "outputs": [],
   "source": [
    "./install-operator.sh"
   ]
  },
  {
   "cell_type": "code",
   "execution_count": null,
   "metadata": {},
   "outputs": [],
   "source": [
    "helm list -n postgres-operator"
   ]
  },
  {
   "cell_type": "code",
   "execution_count": null,
   "metadata": {},
   "outputs": [],
   "source": [
    "kubectl get storageclasses"
   ]
  },
  {
   "cell_type": "markdown",
   "metadata": {},
   "source": [
    "kubectl create secret docker-registry regsecret \\\n",
    "    --docker-server=https://registry.pivotal.io/ \\\n",
    "    --docker-username='TANZU_NETWORK_USERNAME' \\\n",
    "    --docker-password='TANZU_NETWORK_PASSWORD' \\\n",
    "    --namespace=dev"
   ]
  },
  {
   "cell_type": "markdown",
   "metadata": {},
   "source": [
    "kubectl apply -f postgres.yaml"
   ]
  },
  {
   "cell_type": "markdown",
   "metadata": {},
   "source": [
    "kubectl get postgres/postgres-db -n dev"
   ]
  },
  {
   "cell_type": "markdown",
   "metadata": {},
   "source": [
    "kubectl apply -f postgres-service-binding-rbac.yaml"
   ]
  },
  {
   "cell_type": "code",
   "execution_count": null,
   "metadata": {},
   "outputs": [],
   "source": [
    "./install-instance.sh"
   ]
  },
  {
   "cell_type": "code",
   "execution_count": null,
   "metadata": {},
   "outputs": [],
   "source": [
    "kubectl get postgres/postgres-db -n dev"
   ]
  },
  {
   "cell_type": "markdown",
   "metadata": {},
   "source": [
    "Checkout the project https://github.com/sreeramsunkara/spring-petclinic-tap and cd into the folder.\n",
    "Ensure spring.datasource.initialization-mode=always to create the schema and data application.properties and application-postgres.properties\n",
    "For subsequent runs set spring.datasource.initialization-mode=never"
   ]
  },
  {
   "cell_type": "code",
   "execution_count": null,
   "metadata": {},
   "outputs": [],
   "source": [
    "cd ~/projects/tap/spring-petclinic-tap"
   ]
  },
  {
   "cell_type": "code",
   "execution_count": null,
   "metadata": {},
   "outputs": [],
   "source": [
    "tanzu apps workload apply -f kubernetes/tap/workload.yaml -y"
   ]
  },
  {
   "cell_type": "code",
   "execution_count": null,
   "metadata": {},
   "outputs": [],
   "source": [
    "tanzu apps workload get spring-petclinic -n dev"
   ]
  },
  {
   "cell_type": "code",
   "execution_count": null,
   "metadata": {},
   "outputs": [],
   "source": []
  }
 ],
 "metadata": {
  "kernelspec": {
   "display_name": "Bash",
   "language": "bash",
   "name": "bash"
  },
  "language_info": {
   "codemirror_mode": "shell",
   "file_extension": ".sh",
   "mimetype": "text/x-sh",
   "name": "bash"
  }
 },
 "nbformat": 4,
 "nbformat_minor": 4
}