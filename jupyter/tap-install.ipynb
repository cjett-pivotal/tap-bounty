{
 "cells": [
  {
   "cell_type": "markdown",
   "metadata": {},
   "source": [
    "Deploying Google Kubernetes Cluster"
   ]
  },
  {
   "cell_type": "code",
   "execution_count": null,
   "metadata": {},
   "outputs": [],
   "source": [
    "gcloud beta container --project \"fluted-lambda-274409\" clusters create \"tap-gke-cluster\" --zone \"us-central1-c\" --no-enable-basic-auth --cluster-version \"1.21.6-gke.1500\" --release-channel \"regular\" --machine-type \"e2-standard-4\" --image-type \"COS_CONTAINERD\" --disk-type \"pd-standard\" --disk-size \"100\" --metadata disable-legacy-endpoints=true --scopes \"https://www.googleapis.com/auth/devstorage.read_only\",\"https://www.googleapis.com/auth/logging.write\",\"https://www.googleapis.com/auth/monitoring\",\"https://www.googleapis.com/auth/servicecontrol\",\"https://www.googleapis.com/auth/service.management.readonly\",\"https://www.googleapis.com/auth/trace.append\" --max-pods-per-node \"110\" --num-nodes \"3\" --logging=SYSTEM,WORKLOAD --monitoring=SYSTEM --enable-ip-alias --network \"projects/fluted-lambda-274409/global/networks/default\" --subnetwork \"projects/fluted-lambda-274409/regions/us-central1/subnetworks/default\" --no-enable-intra-node-visibility --default-max-pods-per-node \"110\" --no-enable-master-authorized-networks --addons HorizontalPodAutoscaling,HttpLoadBalancing,GcePersistentDiskCsiDriver --enable-autoupgrade --enable-autorepair --max-surge-upgrade 1 --max-unavailable-upgrade 0 --enable-shielded-nodes --node-locations \"us-central1-c\""
   ]
  },
  {
   "cell_type": "markdown",
   "metadata": {},
   "source": [
    "Set up Kubernetes cluster context"
   ]
  },
  {
   "cell_type": "code",
   "execution_count": null,
   "metadata": {},
   "outputs": [],
   "source": [
    "gcloud container clusters get-credentials tap-gke-cluster --zone us-central1-c --project fluted-lambda-274409"
   ]
  },
  {
   "cell_type": "code",
   "execution_count": null,
   "metadata": {},
   "outputs": [],
   "source": [
    "kubectl config current-context"
   ]
  },
  {
   "cell_type": "markdown",
   "metadata": {},
   "source": [
    "Download and install Cluster Essentials for VMware Tanzu"
   ]
  },
  {
   "cell_type": "code",
   "execution_count": null,
   "metadata": {},
   "outputs": [],
   "source": [
    "cd /tmp/tanzu-cluster-essentials"
   ]
  },
  {
   "cell_type": "code",
   "execution_count": null,
   "metadata": {},
   "outputs": [],
   "source": [
    "atom install.sh"
   ]
  },
  {
   "cell_type": "markdown",
   "metadata": {},
   "source": [
    "Copy & Paste the following at the top in install.sh and update the file with actual username and password."
   ]
  },
  {
   "cell_type": "raw",
   "metadata": {},
   "source": [
    "export INSTALL_BUNDLE=registry.tanzu.vmware.com/tanzu-cluster-essentials/cluster-essentials-bundle@sha256:82dfaf70656b54dcba0d4def85ccae1578ff27054e7533d08320244af7fb0343\n",
    "export INSTALL_REGISTRY_HOSTNAME=registry.tanzu.vmware.com\n",
    "export INSTALL_REGISTRY_USERNAME=TANZU-NET-USER\n",
    "export INSTALL_REGISTRY_PASSWORD=TANZU-NET-PASSWORD"
   ]
  },
  {
   "cell_type": "code",
   "execution_count": null,
   "metadata": {},
   "outputs": [],
   "source": [
    "./install.sh"
   ]
  },
  {
   "cell_type": "code",
   "execution_count": null,
   "metadata": {},
   "outputs": [],
   "source": [
    "kubectl get ns"
   ]
  },
  {
   "cell_type": "code",
   "execution_count": null,
   "metadata": {},
   "outputs": [],
   "source": [
    "cd ~/tanzu\n",
    "pivnet login --api-token='e938c1500b6f486a8d3f7b9a6bc79672-r'\n",
    "pivnet download-product-files --product-slug='tanzu-application-platform' --release-version='1.0.1-build.4' --product-file-id=1114446"
   ]
  },
  {
   "cell_type": "code",
   "execution_count": null,
   "metadata": {},
   "outputs": [],
   "source": [
    "tar -xvf tanzu-framework-darwin-amd64.tar"
   ]
  },
  {
   "cell_type": "code",
   "execution_count": null,
   "metadata": {},
   "outputs": [],
   "source": [
    "export TANZU_CLI_NO_INIT=true\n",
    "tanzu plugin install --local cli all"
   ]
  },
  {
   "cell_type": "code",
   "execution_count": null,
   "metadata": {},
   "outputs": [],
   "source": [
    "tanzu plugin list"
   ]
  },
  {
   "cell_type": "markdown",
   "metadata": {},
   "source": [
    "Installing Profiles"
   ]
  },
  {
   "cell_type": "code",
   "execution_count": null,
   "metadata": {},
   "outputs": [],
   "source": [
    "cd ~/projects/tap-bounty/install/scripts"
   ]
  },
  {
   "cell_type": "code",
   "execution_count": null,
   "metadata": {},
   "outputs": [],
   "source": [
    "chmod 755 setUp.sh"
   ]
  },
  {
   "cell_type": "markdown",
   "metadata": {},
   "source": [
    "Edit setUp.sh and update values forI INSTALL_REGISTRY_HOSTNAME, INSTALL_REGISTRY_USERNAME, INSTALL_REGISTRY_PASSWORD, CERTS_DIR, SA_PWD_FILE"
   ]
  },
  {
   "cell_type": "code",
   "execution_count": null,
   "metadata": {},
   "outputs": [],
   "source": [
    "./setUp.sh "
   ]
  },
  {
   "cell_type": "code",
   "execution_count": null,
   "metadata": {},
   "outputs": [],
   "source": [
    "cd ~/projects/tap-bounty"
   ]
  },
  {
   "cell_type": "code",
   "execution_count": null,
   "metadata": {},
   "outputs": [],
   "source": [
    "tanzu package install tap -p tap.tanzu.vmware.com -v 1.0.0 --values-file tap-values.yml -n tap-install"
   ]
  },
  {
   "cell_type": "code",
   "execution_count": null,
   "metadata": {},
   "outputs": [],
   "source": [
    "tanzu package installed get tap -n tap-install"
   ]
  },
  {
   "cell_type": "code",
   "execution_count": null,
   "metadata": {},
   "outputs": [],
   "source": [
    "tanzu package installed list -A"
   ]
  },
  {
   "cell_type": "code",
   "execution_count": null,
   "metadata": {},
   "outputs": [],
   "source": [
    "kubectl get svc envoy -n tanzu-system-ingress"
   ]
  },
  {
   "cell_type": "code",
   "execution_count": null,
   "metadata": {},
   "outputs": [],
   "source": [
    "gcloud beta dns --project=fluted-lambda-274409 record-sets transaction start --zone=\"tanzu4u\"\n",
    "gcloud beta dns --project=fluted-lambda-274409 record-sets transaction add 35.226.28.109 --name=\"tap-gui.tap.tanzu4u.net.\" --ttl=\"300\" --type=\"A\" --zone=\"tanzu4u\"\n",
    "gcloud beta dns --project=fluted-lambda-274409 record-sets transaction execute --zone=\"tanzu4u\""
   ]
  },
  {
   "cell_type": "code",
   "execution_count": null,
   "metadata": {},
   "outputs": [],
   "source": [
    "cd tap-ingress"
   ]
  },
  {
   "cell_type": "code",
   "execution_count": null,
   "metadata": {},
   "outputs": [],
   "source": [
    "./configure-ingress.sh values-ingress.yaml"
   ]
  },
  {
   "cell_type": "code",
   "execution_count": null,
   "metadata": {},
   "outputs": [],
   "source": [
    "nslookup tap-gui.tap.tanzu4u.net"
   ]
  },
  {
   "cell_type": "code",
   "execution_count": null,
   "metadata": {},
   "outputs": [],
   "source": [
    "open -a \"Google Chrome\" https://tap-gui.tap.tanzu4u.net"
   ]
  },
  {
   "cell_type": "code",
   "execution_count": null,
   "metadata": {},
   "outputs": [],
   "source": [
    "tanzu apps workload create tanzu-java-web-app \\\n",
    "--git-repo https://github.com/sreeramsunkara/tanzu-java-web-app \\\n",
    "--git-branch main \\\n",
    "--type web \\\n",
    "--label app.kubernetes.io/part-of=tanzu-java-web-app \\\n",
    "--namespace dev \\\n",
    "--yes"
   ]
  },
  {
   "cell_type": "code",
   "execution_count": null,
   "metadata": {},
   "outputs": [],
   "source": [
    "tanzu apps workload get tanzu-java-web-app -n dev"
   ]
  },
  {
   "cell_type": "code",
   "execution_count": null,
   "metadata": {},
   "outputs": [],
   "source": [
    "gcloud beta dns --project=fluted-lambda-274409 record-sets transaction start --zone=\"tanzu4u\"\n",
    "gcloud beta dns --project=fluted-lambda-274409 record-sets transaction add 35.226.28.109 --name=\"*.apps.tap.tanzu4u.net.\" --ttl=\"300\" --type=\"A\" --zone=\"tanzu4u\"\n",
    "gcloud beta dns --project=fluted-lambda-274409 record-sets transaction execute --zone=\"tanzu4u\""
   ]
  },
  {
   "cell_type": "markdown",
   "metadata": {},
   "source": [
    "Postgres Operator installation"
   ]
  },
  {
   "cell_type": "code",
   "execution_count": null,
   "metadata": {},
   "outputs": [],
   "source": [
    "cd ~/projects/tap-bounty/postgres"
   ]
  },
  {
   "cell_type": "code",
   "execution_count": null,
   "metadata": {},
   "outputs": [],
   "source": [
    "chmod 755 prereq.sh"
   ]
  },
  {
   "cell_type": "markdown",
   "metadata": {},
   "source": [
    "Edit prereq.sh and update username and password for Tanzu Network Registry."
   ]
  },
  {
   "cell_type": "code",
   "execution_count": null,
   "metadata": {},
   "outputs": [],
   "source": [
    "./prereq.sh"
   ]
  },
  {
   "cell_type": "code",
   "execution_count": null,
   "metadata": {},
   "outputs": [],
   "source": [
    "cat postgres-operator/values.yaml"
   ]
  },
  {
   "cell_type": "markdown",
   "metadata": {},
   "source": [
    "kubectl create ns postgres-operator"
   ]
  },
  {
   "cell_type": "markdown",
   "metadata": {},
   "source": [
    "kubectl create secret docker-registry regsecret \\\n",
    "    --docker-server=https://registry.pivotal.io/ \\\n",
    "    --docker-username='sunkarasr@vmware.com' \\\n",
    "    --docker-password='Sreekar)9' \\\n",
    "    --namespace=postgres-operator"
   ]
  },
  {
   "cell_type": "markdown",
   "metadata": {},
   "source": [
    "helm install my-postgres-operator postgres-operator/ \\\n",
    "  --namespace=postgres-operator \\\n",
    "  --wait    "
   ]
  },
  {
   "cell_type": "markdown",
   "metadata": {},
   "source": [
    "kubectl get serviceaccount -n postgres-operator"
   ]
  },
  {
   "cell_type": "markdown",
   "metadata": {},
   "source": [
    "kubectl get all --selector app=postgres-operator -n postgres-operator"
   ]
  },
  {
   "cell_type": "markdown",
   "metadata": {},
   "source": [
    "kubectl logs -l app=postgres-operator -n postgres-operator"
   ]
  },
  {
   "cell_type": "markdown",
   "metadata": {},
   "source": [
    "kubectl api-resources --api-group=sql.tanzu.vmware.com -n postgres-operator"
   ]
  },
  {
   "cell_type": "code",
   "execution_count": null,
   "metadata": {},
   "outputs": [],
   "source": [
    "./install-operator.sh"
   ]
  },
  {
   "cell_type": "code",
   "execution_count": null,
   "metadata": {},
   "outputs": [],
   "source": [
    "helm list -n postgres-operator"
   ]
  },
  {
   "cell_type": "code",
   "execution_count": null,
   "metadata": {},
   "outputs": [],
   "source": [
    "kubectl get storageclasses"
   ]
  },
  {
   "cell_type": "markdown",
   "metadata": {},
   "source": [
    "kubectl create secret docker-registry regsecret \\\n",
    "    --docker-server=https://registry.pivotal.io/ \\\n",
    "    --docker-username='sunkarasr@vmware.com' \\\n",
    "    --docker-password='Sreekar)9' \\\n",
    "    --namespace=dev"
   ]
  },
  {
   "cell_type": "markdown",
   "metadata": {},
   "source": [
    "kubectl apply -f postgres.yaml"
   ]
  },
  {
   "cell_type": "markdown",
   "metadata": {},
   "source": [
    "kubectl get postgres/postgres-db -n dev"
   ]
  },
  {
   "cell_type": "markdown",
   "metadata": {},
   "source": [
    "kubectl apply -f postgres-service-binding-rbac.yaml"
   ]
  },
  {
   "cell_type": "code",
   "execution_count": null,
   "metadata": {},
   "outputs": [],
   "source": [
    "./install-instance.sh"
   ]
  },
  {
   "cell_type": "code",
   "execution_count": null,
   "metadata": {},
   "outputs": [],
   "source": [
    "kubectl get postgres/postgres-db -n dev"
   ]
  },
  {
   "cell_type": "markdown",
   "metadata": {},
   "source": [
    "Checkout the project https://github.com/sreeramsunkara/spring-petclinic-tap and cd into the folder.\n",
    "Ensure spring.datasource.initialization-mode=always to create the schema and data application.properties and application-postgres.properties\n",
    "For subsequent runs set spring.datasource.initialization-mode=never"
   ]
  },
  {
   "cell_type": "code",
   "execution_count": null,
   "metadata": {},
   "outputs": [],
   "source": [
    "cd ~/projects/tap/spring-petclinic-tap"
   ]
  },
  {
   "cell_type": "code",
   "execution_count": null,
   "metadata": {},
   "outputs": [],
   "source": [
    "tanzu apps workload apply -f kubernetes/tap/workload.yaml -y"
   ]
  },
  {
   "cell_type": "code",
   "execution_count": null,
   "metadata": {},
   "outputs": [],
   "source": [
    "tanzu apps workload get spring-petclinic -n dev"
   ]
  },
  {
   "cell_type": "code",
   "execution_count": null,
   "metadata": {},
   "outputs": [],
   "source": []
  }
 ],
 "metadata": {
  "kernelspec": {
   "display_name": "Bash",
   "language": "bash",
   "name": "bash"
  },
  "language_info": {
   "codemirror_mode": "shell",
   "file_extension": ".sh",
   "mimetype": "text/x-sh",
   "name": "bash"
  }
 },
 "nbformat": 4,
 "nbformat_minor": 4
}
