{
 "cells": [
  {
   "cell_type": "markdown",
   "metadata": {},
   "source": [
    "# Installing full profile Tanzu Application Platform"
   ]
  },
  {
   "cell_type": "code",
   "execution_count": null,
   "metadata": {},
   "outputs": [],
   "source": [
    "cd $HOME/projects/tap-bounty/install/scripts"
   ]
  },
  {
   "cell_type": "code",
   "execution_count": null,
   "metadata": {},
   "outputs": [],
   "source": [
    "chmod 755 setUp.sh"
   ]
  },
  {
   "cell_type": "code",
   "execution_count": null,
   "metadata": {},
   "outputs": [],
   "source": [
    "./setUp.sh "
   ]
  },
  {
   "cell_type": "code",
   "execution_count": null,
   "metadata": {},
   "outputs": [],
   "source": [
    "cd $HOME/projects/tap-bounty"
   ]
  },
  {
   "cell_type": "markdown",
   "source": [
    "Update tap-values.yaml to reflect your own environment"
   ],
   "metadata": {
    "collapsed": false,
    "pycharm": {
     "name": "#%% md\n"
    }
   }
  },
  {
   "cell_type": "code",
   "execution_count": null,
   "metadata": {},
   "outputs": [],
   "source": [
    "tanzu package install tap -p tap.tanzu.vmware.com -v 1.0.0 --values-file tap-values.yml -n tap-install"
   ]
  },
  {
   "cell_type": "code",
   "execution_count": null,
   "metadata": {},
   "outputs": [],
   "source": [
    "tanzu package installed get tap -n tap-install"
   ]
  },
  {
   "cell_type": "code",
   "execution_count": null,
   "metadata": {},
   "outputs": [],
   "source": [
    "tanzu package installed list -A"
   ]
  },
  {
   "cell_type": "markdown",
   "source": [
    "## Configure Ingress and Routing"
   ],
   "metadata": {
    "collapsed": false,
    "pycharm": {
     "name": "#%% md\n"
    }
   }
  },
  {
   "cell_type": "code",
   "execution_count": null,
   "metadata": {},
   "outputs": [],
   "source": [
    "kubectl get svc envoy -n tanzu-system-ingress"
   ]
  },
  {
   "cell_type": "code",
   "execution_count": null,
   "metadata": {},
   "outputs": [],
   "source": [
    "gcloud beta dns --project=fluted-lambda-274409 record-sets transaction start --zone=\"tanzu4u\"\n",
    "gcloud beta dns --project=fluted-lambda-274409 record-sets transaction add 35.226.28.109 --name=\"tap-gui.tap.tanzu4u.net.\" --ttl=\"300\" --type=\"A\" --zone=\"tanzu4u\"\n",
    "gcloud beta dns --project=fluted-lambda-274409 record-sets transaction execute --zone=\"tanzu4u\""
   ]
  },
  {
   "cell_type": "code",
   "execution_count": null,
   "metadata": {},
   "outputs": [],
   "source": [
    "cd tap-ingress"
   ]
  },
  {
   "cell_type": "code",
   "execution_count": null,
   "metadata": {},
   "outputs": [],
   "source": [
    "./configure-ingress.sh values-ingress.yaml"
   ]
  },
  {
   "cell_type": "code",
   "execution_count": null,
   "metadata": {},
   "outputs": [],
   "source": [
    "nslookup tap-gui.tap.tanzu4u.net"
   ]
  },
  {
   "cell_type": "code",
   "execution_count": null,
   "metadata": {},
   "outputs": [],
   "source": [
    "open -a \"Google Chrome\" https://tap-gui.tap.tanzu4u.net"
   ]
  },
  {
   "cell_type": "markdown",
   "source": [
    "## Deploy a sample Java application"
   ],
   "metadata": {
    "collapsed": false,
    "pycharm": {
     "name": "#%% md\n"
    }
   }
  },
  {
   "cell_type": "code",
   "execution_count": null,
   "metadata": {},
   "outputs": [],
   "source": [
    "tanzu apps workload create tanzu-java-web-app \\\n",
    "--git-repo https://github.com/sreeramsunkara/tanzu-java-web-app \\\n",
    "--git-branch main \\\n",
    "--type web \\\n",
    "--label app.kubernetes.io/part-of=tanzu-java-web-app \\\n",
    "--namespace dev \\\n",
    "--yes"
   ]
  },
  {
   "cell_type": "code",
   "execution_count": null,
   "metadata": {},
   "outputs": [],
   "source": [
    "tanzu apps workload get tanzu-java-web-app -n dev"
   ]
  },
  {
   "cell_type": "code",
   "execution_count": null,
   "metadata": {
    "pycharm": {
     "name": "#%%\n"
    }
   },
   "outputs": [],
   "source": [
    "gcloud beta dns --project=fluted-lambda-274409 record-sets transaction start --zone=\"tanzu4u\"\n",
    "gcloud beta dns --project=fluted-lambda-274409 record-sets transaction add 35.226.28.109 --name=\"*.apps.tap.tanzu4u.net.\" --ttl=\"300\" --type=\"A\" --zone=\"tanzu4u\"\n",
    "gcloud beta dns --project=fluted-lambda-274409 record-sets transaction execute --zone=\"tanzu4u\""
   ]
  }
 ],
 "metadata": {
  "kernelspec": {
   "display_name": "Bash",
   "language": "bash",
   "name": "bash"
  },
  "language_info": {
   "codemirror_mode": "shell",
   "file_extension": ".sh",
   "mimetype": "text/x-sh",
   "name": "bash"
  }
 },
 "nbformat": 4,
 "nbformat_minor": 4
}